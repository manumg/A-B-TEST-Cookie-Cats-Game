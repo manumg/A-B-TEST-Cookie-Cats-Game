{
 "cells": [
  {
   "cell_type": "markdown",
   "id": "85b69126",
   "metadata": {},
   "source": [
    "The project: As players progress through the game they will encounter gates that force them to wait some time before they can progress or make an in-app purchase. In this project, we will analyze the result of an A/B test where the first gate in Cookie Cats was moved from level 30 to level 40. In particular, we will analyze the impact on player retention and game rounds.\n",
    "\n",
    "INDEX\n",
    "1.Import packages and data\n",
    "\n",
    "2.Exploratory data analysis\n",
    "\n",
    "3.A/B Test\n",
    "\n",
    "4.Bootstrapping"
   ]
  },
  {
   "cell_type": "code",
   "execution_count": null,
   "id": "e3360f49",
   "metadata": {},
   "outputs": [],
   "source": [
    "# First let's import the packages we will use in this project \n",
    "import pandas as pd\n",
    "import numpy as np\n",
    "import seaborn as sns\n",
    "import matplotlib.pyplot as plt\n",
    "import os"
   ]
  },
  {
   "cell_type": "code",
   "execution_count": 4,
   "id": "f7bb5075",
   "metadata": {
    "scrolled": true
   },
   "outputs": [
    {
     "data": {
      "text/html": [
       "<div>\n",
       "<style scoped>\n",
       "    .dataframe tbody tr th:only-of-type {\n",
       "        vertical-align: middle;\n",
       "    }\n",
       "\n",
       "    .dataframe tbody tr th {\n",
       "        vertical-align: top;\n",
       "    }\n",
       "\n",
       "    .dataframe thead th {\n",
       "        text-align: right;\n",
       "    }\n",
       "</style>\n",
       "<table border=\"1\" class=\"dataframe\">\n",
       "  <thead>\n",
       "    <tr style=\"text-align: right;\">\n",
       "      <th></th>\n",
       "      <th>userid</th>\n",
       "      <th>version</th>\n",
       "      <th>sum_gamerounds</th>\n",
       "      <th>retention_1</th>\n",
       "      <th>retention_7</th>\n",
       "    </tr>\n",
       "  </thead>\n",
       "  <tbody>\n",
       "    <tr>\n",
       "      <th>0</th>\n",
       "      <td>116</td>\n",
       "      <td>gate_30</td>\n",
       "      <td>3</td>\n",
       "      <td>False</td>\n",
       "      <td>False</td>\n",
       "    </tr>\n",
       "    <tr>\n",
       "      <th>1</th>\n",
       "      <td>337</td>\n",
       "      <td>gate_30</td>\n",
       "      <td>38</td>\n",
       "      <td>True</td>\n",
       "      <td>False</td>\n",
       "    </tr>\n",
       "    <tr>\n",
       "      <th>2</th>\n",
       "      <td>377</td>\n",
       "      <td>gate_40</td>\n",
       "      <td>165</td>\n",
       "      <td>True</td>\n",
       "      <td>False</td>\n",
       "    </tr>\n",
       "    <tr>\n",
       "      <th>3</th>\n",
       "      <td>483</td>\n",
       "      <td>gate_40</td>\n",
       "      <td>1</td>\n",
       "      <td>False</td>\n",
       "      <td>False</td>\n",
       "    </tr>\n",
       "    <tr>\n",
       "      <th>4</th>\n",
       "      <td>488</td>\n",
       "      <td>gate_40</td>\n",
       "      <td>179</td>\n",
       "      <td>True</td>\n",
       "      <td>True</td>\n",
       "    </tr>\n",
       "    <tr>\n",
       "      <th>5</th>\n",
       "      <td>540</td>\n",
       "      <td>gate_40</td>\n",
       "      <td>187</td>\n",
       "      <td>True</td>\n",
       "      <td>True</td>\n",
       "    </tr>\n",
       "    <tr>\n",
       "      <th>6</th>\n",
       "      <td>1066</td>\n",
       "      <td>gate_30</td>\n",
       "      <td>0</td>\n",
       "      <td>False</td>\n",
       "      <td>False</td>\n",
       "    </tr>\n",
       "    <tr>\n",
       "      <th>7</th>\n",
       "      <td>1444</td>\n",
       "      <td>gate_40</td>\n",
       "      <td>2</td>\n",
       "      <td>False</td>\n",
       "      <td>False</td>\n",
       "    </tr>\n",
       "    <tr>\n",
       "      <th>8</th>\n",
       "      <td>1574</td>\n",
       "      <td>gate_40</td>\n",
       "      <td>108</td>\n",
       "      <td>True</td>\n",
       "      <td>True</td>\n",
       "    </tr>\n",
       "    <tr>\n",
       "      <th>9</th>\n",
       "      <td>1587</td>\n",
       "      <td>gate_40</td>\n",
       "      <td>153</td>\n",
       "      <td>True</td>\n",
       "      <td>False</td>\n",
       "    </tr>\n",
       "    <tr>\n",
       "      <th>10</th>\n",
       "      <td>1842</td>\n",
       "      <td>gate_40</td>\n",
       "      <td>3</td>\n",
       "      <td>False</td>\n",
       "      <td>True</td>\n",
       "    </tr>\n",
       "    <tr>\n",
       "      <th>11</th>\n",
       "      <td>2101</td>\n",
       "      <td>gate_30</td>\n",
       "      <td>0</td>\n",
       "      <td>False</td>\n",
       "      <td>False</td>\n",
       "    </tr>\n",
       "    <tr>\n",
       "      <th>12</th>\n",
       "      <td>2132</td>\n",
       "      <td>gate_40</td>\n",
       "      <td>30</td>\n",
       "      <td>True</td>\n",
       "      <td>False</td>\n",
       "    </tr>\n",
       "    <tr>\n",
       "      <th>13</th>\n",
       "      <td>2179</td>\n",
       "      <td>gate_30</td>\n",
       "      <td>39</td>\n",
       "      <td>True</td>\n",
       "      <td>False</td>\n",
       "    </tr>\n",
       "    <tr>\n",
       "      <th>14</th>\n",
       "      <td>2218</td>\n",
       "      <td>gate_30</td>\n",
       "      <td>305</td>\n",
       "      <td>True</td>\n",
       "      <td>True</td>\n",
       "    </tr>\n",
       "    <tr>\n",
       "      <th>15</th>\n",
       "      <td>2382</td>\n",
       "      <td>gate_30</td>\n",
       "      <td>73</td>\n",
       "      <td>True</td>\n",
       "      <td>False</td>\n",
       "    </tr>\n",
       "    <tr>\n",
       "      <th>16</th>\n",
       "      <td>2392</td>\n",
       "      <td>gate_30</td>\n",
       "      <td>14</td>\n",
       "      <td>True</td>\n",
       "      <td>False</td>\n",
       "    </tr>\n",
       "    <tr>\n",
       "      <th>17</th>\n",
       "      <td>2451</td>\n",
       "      <td>gate_30</td>\n",
       "      <td>204</td>\n",
       "      <td>True</td>\n",
       "      <td>True</td>\n",
       "    </tr>\n",
       "    <tr>\n",
       "      <th>18</th>\n",
       "      <td>2482</td>\n",
       "      <td>gate_30</td>\n",
       "      <td>108</td>\n",
       "      <td>True</td>\n",
       "      <td>True</td>\n",
       "    </tr>\n",
       "    <tr>\n",
       "      <th>19</th>\n",
       "      <td>2502</td>\n",
       "      <td>gate_40</td>\n",
       "      <td>1</td>\n",
       "      <td>False</td>\n",
       "      <td>False</td>\n",
       "    </tr>\n",
       "  </tbody>\n",
       "</table>\n",
       "</div>"
      ],
      "text/plain": [
       "    userid  version  sum_gamerounds  retention_1  retention_7\n",
       "0      116  gate_30               3        False        False\n",
       "1      337  gate_30              38         True        False\n",
       "2      377  gate_40             165         True        False\n",
       "3      483  gate_40               1        False        False\n",
       "4      488  gate_40             179         True         True\n",
       "5      540  gate_40             187         True         True\n",
       "6     1066  gate_30               0        False        False\n",
       "7     1444  gate_40               2        False        False\n",
       "8     1574  gate_40             108         True         True\n",
       "9     1587  gate_40             153         True        False\n",
       "10    1842  gate_40               3        False         True\n",
       "11    2101  gate_30               0        False        False\n",
       "12    2132  gate_40              30         True        False\n",
       "13    2179  gate_30              39         True        False\n",
       "14    2218  gate_30             305         True         True\n",
       "15    2382  gate_30              73         True        False\n",
       "16    2392  gate_30              14         True        False\n",
       "17    2451  gate_30             204         True         True\n",
       "18    2482  gate_30             108         True         True\n",
       "19    2502  gate_40               1        False        False"
      ]
     },
     "execution_count": 4,
     "metadata": {},
     "output_type": "execute_result"
    }
   ],
   "source": [
    "#Loading the dataset\n",
    "cats = pd.read_csv('cookie_cats.csv')\n",
    "cats.head(20)"
   ]
  },
  {
   "cell_type": "markdown",
   "id": "1b67548c",
   "metadata": {},
   "source": [
    "1.EXPLORATORY DATA ANALYSIS:SUMMARTY STATISTICS AND CLEANING THE DATASET:<br>\n",
    "-Look at summary statistics of the dataset<br>\n",
    "-Clean the dataset:look for missing values, duplicated and outliers<br>\n",
    "-Analyze the different statistics for the different groups<br>"
   ]
  },
  {
   "cell_type": "code",
   "execution_count": 5,
   "id": "1f5c33b3",
   "metadata": {},
   "outputs": [
    {
     "name": "stdout",
     "output_type": "stream",
     "text": [
      "<class 'pandas.core.frame.DataFrame'>\n",
      "RangeIndex: 90189 entries, 0 to 90188\n",
      "Data columns (total 5 columns):\n",
      " #   Column          Non-Null Count  Dtype \n",
      "---  ------          --------------  ----- \n",
      " 0   userid          90189 non-null  int64 \n",
      " 1   version         90189 non-null  object\n",
      " 2   sum_gamerounds  90189 non-null  int64 \n",
      " 3   retention_1     90189 non-null  bool  \n",
      " 4   retention_7     90189 non-null  bool  \n",
      "dtypes: bool(2), int64(2), object(1)\n",
      "memory usage: 2.2+ MB\n"
     ]
    }
   ],
   "source": [
    "#SUMMARY STATS\n",
    "cats.info()"
   ]
  },
  {
   "cell_type": "code",
   "execution_count": 6,
   "id": "cfc3557b",
   "metadata": {},
   "outputs": [
    {
     "data": {
      "text/plain": [
       "userid            0\n",
       "version           0\n",
       "sum_gamerounds    0\n",
       "retention_1       0\n",
       "retention_7       0\n",
       "dtype: int64"
      ]
     },
     "execution_count": 6,
     "metadata": {},
     "output_type": "execute_result"
    }
   ],
   "source": [
    "#missing values\n",
    "cats.isnull().sum()"
   ]
  },
  {
   "cell_type": "code",
   "execution_count": 7,
   "id": "a90f9ffa",
   "metadata": {},
   "outputs": [
    {
     "data": {
      "text/plain": [
       "0"
      ]
     },
     "execution_count": 7,
     "metadata": {},
     "output_type": "execute_result"
    }
   ],
   "source": [
    "#duplicates\n",
    "cats.duplicated().sum()"
   ]
  },
  {
   "cell_type": "code",
   "execution_count": 8,
   "id": "757ed1c8",
   "metadata": {},
   "outputs": [
    {
     "data": {
      "text/html": [
       "<div>\n",
       "<style scoped>\n",
       "    .dataframe tbody tr th:only-of-type {\n",
       "        vertical-align: middle;\n",
       "    }\n",
       "\n",
       "    .dataframe tbody tr th {\n",
       "        vertical-align: top;\n",
       "    }\n",
       "\n",
       "    .dataframe thead th {\n",
       "        text-align: right;\n",
       "    }\n",
       "</style>\n",
       "<table border=\"1\" class=\"dataframe\">\n",
       "  <thead>\n",
       "    <tr style=\"text-align: right;\">\n",
       "      <th></th>\n",
       "      <th>userid</th>\n",
       "      <th>sum_gamerounds</th>\n",
       "      <th>retention_1</th>\n",
       "      <th>retention_7</th>\n",
       "    </tr>\n",
       "    <tr>\n",
       "      <th>version</th>\n",
       "      <th></th>\n",
       "      <th></th>\n",
       "      <th></th>\n",
       "      <th></th>\n",
       "    </tr>\n",
       "  </thead>\n",
       "  <tbody>\n",
       "    <tr>\n",
       "      <th>gate_30</th>\n",
       "      <td>44700</td>\n",
       "      <td>44700</td>\n",
       "      <td>44700</td>\n",
       "      <td>44700</td>\n",
       "    </tr>\n",
       "    <tr>\n",
       "      <th>gate_40</th>\n",
       "      <td>45489</td>\n",
       "      <td>45489</td>\n",
       "      <td>45489</td>\n",
       "      <td>45489</td>\n",
       "    </tr>\n",
       "  </tbody>\n",
       "</table>\n",
       "</div>"
      ],
      "text/plain": [
       "         userid  sum_gamerounds  retention_1  retention_7\n",
       "version                                                  \n",
       "gate_30   44700           44700        44700        44700\n",
       "gate_40   45489           45489        45489        45489"
      ]
     },
     "execution_count": 8,
     "metadata": {},
     "output_type": "execute_result"
    }
   ],
   "source": [
    "#How many users we have in each group(version)?\n",
    "cats.groupby('version').count()"
   ]
  },
  {
   "cell_type": "code",
   "execution_count": 9,
   "id": "845e9ab2",
   "metadata": {},
   "outputs": [
    {
     "name": "stderr",
     "output_type": "stream",
     "text": [
      "C:\\Users\\manum\\anaconda3\\lib\\site-packages\\seaborn\\_decorators.py:36: FutureWarning: Pass the following variable as a keyword arg: x. From version 0.12, the only valid positional argument will be `data`, and passing other arguments without an explicit keyword will result in an error or misinterpretation.\n",
      "  warnings.warn(\n"
     ]
    },
    {
     "data": {
      "text/plain": [
       "<AxesSubplot:xlabel='version', ylabel='count'>"
      ]
     },
     "execution_count": 9,
     "metadata": {},
     "output_type": "execute_result"
    },
    {
     "data": {
      "image/png": "[encoded data removed]",
      "text/plain": [
       "<Figure size 432x288 with 1 Axes>"
      ]
     },
     "metadata": {
      "needs_background": "light"
     },
     "output_type": "display_data"
    }
   ],
   "source": [
    "#Aproximately we have the same number of users for each group\n",
    "#Graph representation of each group:\n",
    "sns.countplot(cats.version)"
   ]
  },
  {
   "cell_type": "markdown",
   "id": "a962537d",
   "metadata": {},
   "source": [
    "We have 3 different variables to study the gate change effect: retention_1, retention_7 & sum_gamerounds. Let's look at the stats  we have for each of them"
   ]
  },
  {
   "cell_type": "code",
   "execution_count": 10,
   "id": "37efe241",
   "metadata": {},
   "outputs": [
    {
     "data": {
      "text/plain": [
       "<AxesSubplot:xlabel='version', ylabel='sum_gamerounds'>"
      ]
     },
     "execution_count": 10,
     "metadata": {},
     "output_type": "execute_result"
    },
    {
     "data": {
      "image/png": "[encoded data removed]",
      "text/plain": [
       "<Figure size 432x288 with 1 Axes>"
      ]
     },
     "metadata": {
      "needs_background": "light"
     },
     "output_type": "display_data"
    }
   ],
   "source": [
    "#Looking at the distribution of the sum of game rounds for each group:\n",
    "sns.boxplot(x=cats.version, y=cats.sum_gamerounds)"
   ]
  },
  {
   "cell_type": "markdown",
   "id": "27fc64e9",
   "metadata": {},
   "source": [
    "We can see in the graph that we have an outlier in the gate_30 group. This player played about 50000 games during the first week. <br>\n",
    "We don't know if this outlier comes from collecting badly the data or if a player actually played that amount of games. Wherever the case is, this outlier disturbs the rest of the data. Let's remove the outlier from the data."
   ]
  },
  {
   "cell_type": "code",
   "execution_count": 12,
   "id": "574d01bb",
   "metadata": {},
   "outputs": [],
   "source": [
    "#We select only game rounds that are above the maximum game rounds, that is the outlier.\n",
    "cats = cats[cats.sum_gamerounds < cats.sum_gamerounds.max()]"
   ]
  },
  {
   "cell_type": "code",
   "execution_count": 13,
   "id": "6128d808",
   "metadata": {},
   "outputs": [
    {
     "data": {
      "text/plain": [
       "<AxesSubplot:xlabel='version', ylabel='sum_gamerounds'>"
      ]
     },
     "execution_count": 13,
     "metadata": {},
     "output_type": "execute_result"
    },
    {
     "data": {
      "image/png": "[encoded data removed]",
      "text/plain": [
       "<Figure size 432x288 with 1 Axes>"
      ]
     },
     "metadata": {
      "needs_background": "light"
     },
     "output_type": "display_data"
    }
   ],
   "source": [
    "#Plotting after removing the outlier\n",
    "sns.boxplot(x=cats.version, y=cats.sum_gamerounds)"
   ]
  },
  {
   "cell_type": "markdown",
   "id": "f0574638",
   "metadata": {},
   "source": [
    "Once we remove the outlier, we see that gamerounds move from 0 to 3000. Let's look at which are the more repeated gamerounds\n"
   ]
  },
  {
   "cell_type": "code",
   "execution_count": 15,
   "id": "de9119f6",
   "metadata": {},
   "outputs": [
    {
     "data": {
      "text/html": [
       "<div>\n",
       "<style scoped>\n",
       "    .dataframe tbody tr th:only-of-type {\n",
       "        vertical-align: middle;\n",
       "    }\n",
       "\n",
       "    .dataframe tbody tr th {\n",
       "        vertical-align: top;\n",
       "    }\n",
       "\n",
       "    .dataframe thead th {\n",
       "        text-align: right;\n",
       "    }\n",
       "</style>\n",
       "<table border=\"1\" class=\"dataframe\">\n",
       "  <thead>\n",
       "    <tr style=\"text-align: right;\">\n",
       "      <th></th>\n",
       "      <th>sum_gamerounds</th>\n",
       "      <th>userid</th>\n",
       "    </tr>\n",
       "  </thead>\n",
       "  <tbody>\n",
       "    <tr>\n",
       "      <th>0</th>\n",
       "      <td>0</td>\n",
       "      <td>3994</td>\n",
       "    </tr>\n",
       "    <tr>\n",
       "      <th>1</th>\n",
       "      <td>1</td>\n",
       "      <td>5538</td>\n",
       "    </tr>\n",
       "    <tr>\n",
       "      <th>2</th>\n",
       "      <td>2</td>\n",
       "      <td>4606</td>\n",
       "    </tr>\n",
       "    <tr>\n",
       "      <th>3</th>\n",
       "      <td>3</td>\n",
       "      <td>3958</td>\n",
       "    </tr>\n",
       "    <tr>\n",
       "      <th>4</th>\n",
       "      <td>4</td>\n",
       "      <td>3629</td>\n",
       "    </tr>\n",
       "    <tr>\n",
       "      <th>5</th>\n",
       "      <td>5</td>\n",
       "      <td>2992</td>\n",
       "    </tr>\n",
       "    <tr>\n",
       "      <th>6</th>\n",
       "      <td>6</td>\n",
       "      <td>2861</td>\n",
       "    </tr>\n",
       "    <tr>\n",
       "      <th>7</th>\n",
       "      <td>7</td>\n",
       "      <td>2379</td>\n",
       "    </tr>\n",
       "    <tr>\n",
       "      <th>8</th>\n",
       "      <td>8</td>\n",
       "      <td>2267</td>\n",
       "    </tr>\n",
       "    <tr>\n",
       "      <th>9</th>\n",
       "      <td>9</td>\n",
       "      <td>2013</td>\n",
       "    </tr>\n",
       "    <tr>\n",
       "      <th>10</th>\n",
       "      <td>10</td>\n",
       "      <td>1752</td>\n",
       "    </tr>\n",
       "    <tr>\n",
       "      <th>11</th>\n",
       "      <td>11</td>\n",
       "      <td>1654</td>\n",
       "    </tr>\n",
       "    <tr>\n",
       "      <th>12</th>\n",
       "      <td>12</td>\n",
       "      <td>1570</td>\n",
       "    </tr>\n",
       "    <tr>\n",
       "      <th>13</th>\n",
       "      <td>13</td>\n",
       "      <td>1594</td>\n",
       "    </tr>\n",
       "    <tr>\n",
       "      <th>14</th>\n",
       "      <td>14</td>\n",
       "      <td>1519</td>\n",
       "    </tr>\n",
       "    <tr>\n",
       "      <th>15</th>\n",
       "      <td>15</td>\n",
       "      <td>1446</td>\n",
       "    </tr>\n",
       "    <tr>\n",
       "      <th>16</th>\n",
       "      <td>16</td>\n",
       "      <td>1342</td>\n",
       "    </tr>\n",
       "    <tr>\n",
       "      <th>17</th>\n",
       "      <td>17</td>\n",
       "      <td>1269</td>\n",
       "    </tr>\n",
       "    <tr>\n",
       "      <th>18</th>\n",
       "      <td>18</td>\n",
       "      <td>1228</td>\n",
       "    </tr>\n",
       "    <tr>\n",
       "      <th>19</th>\n",
       "      <td>19</td>\n",
       "      <td>1158</td>\n",
       "    </tr>\n",
       "  </tbody>\n",
       "</table>\n",
       "</div>"
      ],
      "text/plain": [
       "    sum_gamerounds  userid\n",
       "0                0    3994\n",
       "1                1    5538\n",
       "2                2    4606\n",
       "3                3    3958\n",
       "4                4    3629\n",
       "5                5    2992\n",
       "6                6    2861\n",
       "7                7    2379\n",
       "8                8    2267\n",
       "9                9    2013\n",
       "10              10    1752\n",
       "11              11    1654\n",
       "12              12    1570\n",
       "13              13    1594\n",
       "14              14    1519\n",
       "15              15    1446\n",
       "16              16    1342\n",
       "17              17    1269\n",
       "18              18    1228\n",
       "19              19    1158"
      ]
     },
     "execution_count": 15,
     "metadata": {},
     "output_type": "execute_result"
    }
   ],
   "source": [
    "cats.groupby('sum_gamerounds').userid.count().reset_index().head(20)\n"
   ]
  },
  {
   "cell_type": "markdown",
   "id": "df5f24a1",
   "metadata": {},
   "source": [
    "We can see that most players played less than 10 sessions per week or do not even play the game. Lets plot the total distribution of gamerounds to see it clear:"
   ]
  },
  {
   "cell_type": "code",
   "execution_count": 17,
   "id": "1aa6d250",
   "metadata": {},
   "outputs": [
    {
     "data": {
      "text/plain": [
       "<AxesSubplot:>"
      ]
     },
     "execution_count": 17,
     "metadata": {},
     "output_type": "execute_result"
    },
    {
     "data": {
      "image/png": "[encoded data removed]",
      "text/plain": [
       "<Figure size 432x288 with 1 Axes>"
      ]
     },
     "metadata": {
      "needs_background": "light"
     },
     "output_type": "display_data"
    }
   ],
   "source": [
    "cats.sum_gamerounds.hist()"
   ]
  },
  {
   "cell_type": "code",
   "execution_count": 18,
   "id": "4d97231c",
   "metadata": {},
   "outputs": [
    {
     "data": {
      "text/plain": [
       "<AxesSubplot:xlabel='sum_gamerounds'>"
      ]
     },
     "execution_count": 18,
     "metadata": {},
     "output_type": "execute_result"
    },
    {
     "data": {
      "image/png": "[encoded data removed]",
      "text/plain": [
       "<Figure size 432x288 with 1 Axes>"
      ]
     },
     "metadata": {
      "needs_background": "light"
     },
     "output_type": "display_data"
    }
   ],
   "source": [
    "#A line graph can be a better representation. We are going to look at the number of players that played at leat 150 game rounds\n",
    "cats.groupby('sum_gamerounds').userid.count()[:150].plot()"
   ]
  },
  {
   "cell_type": "code",
   "execution_count": 52,
   "id": "e3e28c1b",
   "metadata": {},
   "outputs": [
    {
     "data": {
      "text/plain": [
       "version\n",
       "gate_30    51.342111\n",
       "gate_40    51.298776\n",
       "Name: sum_gamerounds, dtype: float64"
      ]
     },
     "execution_count": 52,
     "metadata": {},
     "output_type": "execute_result"
    }
   ],
   "source": [
    "cats.groupby('version').sum_gamerounds.mean()"
   ]
  },
  {
   "cell_type": "markdown",
   "id": "07ccdb29",
   "metadata": {},
   "source": [
    "Now we have a general idea of how the game rounds are distributed. The two version have nearly the same number of players assigned. \n",
    "The sum of game rounds are practically the same for each group.The data has an outlier we have removed. \n",
    "Most of the players play less than 10 game rounds per week or do not even play the game.The trend is clear:\n",
    "most of the players play a small number of game rounds.\n"
   ]
  },
  {
   "cell_type": "code",
   "execution_count": 21,
   "id": "e82d3458",
   "metadata": {},
   "outputs": [
    {
     "data": {
      "text/plain": [
       "version\n",
       "gate_30    0.448198\n",
       "gate_40    0.442283\n",
       "Name: retention_1, dtype: float64"
      ]
     },
     "execution_count": 21,
     "metadata": {},
     "output_type": "execute_result"
    }
   ],
   "source": [
    "#Let's take a look at the retention stats for each group: Retention after 1 day of installing(retention_1) & retention after 7 days of installing(retention_7)\n",
    "#Retention at day1 for each group:\n",
    "cats.groupby('version').retention_1.mean()\n"
   ]
  },
  {
   "cell_type": "markdown",
   "id": "eea79f23",
   "metadata": {},
   "source": [
    "44% of the player base played 1 day after the game installation in both groups aproximately, with a small better retetion for gate_30"
   ]
  },
  {
   "cell_type": "code",
   "execution_count": 22,
   "id": "d4e61fd3",
   "metadata": {},
   "outputs": [
    {
     "data": {
      "text/plain": [
       "version\n",
       "gate_30    0.190183\n",
       "gate_40    0.182000\n",
       "Name: retention_7, dtype: float64"
      ]
     },
     "execution_count": 22,
     "metadata": {},
     "output_type": "execute_result"
    }
   ],
   "source": [
    "cats.groupby('version').retention_7.mean()"
   ]
  },
  {
   "cell_type": "markdown",
   "id": "b69f0e28",
   "metadata": {},
   "source": [
    "19% of the player base played 7 days after the game installation in gate 30 & 18.2% for gate 40. It looks like we have small differences in favour of gate_30, we will lately test the significance of this differences."
   ]
  },
  {
   "cell_type": "code",
   "execution_count": 24,
   "id": "78c15e6a",
   "metadata": {},
   "outputs": [
    {
     "data": {
      "text/plain": [
       "sum_gamerounds\n",
       "30    642\n",
       "40    505\n",
       "Name: userid, dtype: int64"
      ]
     },
     "execution_count": 24,
     "metadata": {},
     "output_type": "execute_result"
    }
   ],
   "source": [
    "#How many users reached level 30 and 40\n",
    "cats.groupby('sum_gamerounds').userid.count().loc[[30,40]]"
   ]
  },
  {
   "cell_type": "code",
   "execution_count": 69,
   "id": "88ffd76e",
   "metadata": {},
   "outputs": [
    {
     "data": {
      "text/html": [
       "<div>\n",
       "<style scoped>\n",
       "    .dataframe tbody tr th:only-of-type {\n",
       "        vertical-align: middle;\n",
       "    }\n",
       "\n",
       "    .dataframe tbody tr th {\n",
       "        vertical-align: top;\n",
       "    }\n",
       "\n",
       "    .dataframe thead th {\n",
       "        text-align: right;\n",
       "    }\n",
       "</style>\n",
       "<table border=\"1\" class=\"dataframe\">\n",
       "  <thead>\n",
       "    <tr style=\"text-align: right;\">\n",
       "      <th></th>\n",
       "      <th>Retention1_Count</th>\n",
       "      <th>Retention7_Count</th>\n",
       "    </tr>\n",
       "  </thead>\n",
       "  <tbody>\n",
       "    <tr>\n",
       "      <th>False</th>\n",
       "      <td>50035</td>\n",
       "      <td>73408</td>\n",
       "    </tr>\n",
       "    <tr>\n",
       "      <th>True</th>\n",
       "      <td>40153</td>\n",
       "      <td>16780</td>\n",
       "    </tr>\n",
       "  </tbody>\n",
       "</table>\n",
       "</div>"
      ],
      "text/plain": [
       "       Retention1_Count  Retention7_Count\n",
       "False             50035             73408\n",
       "True              40153             16780"
      ]
     },
     "execution_count": 69,
     "metadata": {},
     "output_type": "execute_result"
    }
   ],
   "source": [
    "#More about retention, looking how much users reached day 1 and day 7\n",
    "pd.DataFrame({\"Retention1_Count\": cats[\"retention_1\"].value_counts(),\n",
    "              \"Retention7_Count\": cats[\"retention_7\"].value_counts()})"
   ]
  },
  {
   "cell_type": "code",
   "execution_count": 73,
   "id": "073d629f",
   "metadata": {},
   "outputs": [
    {
     "data": {
      "text/html": [
       "<div>\n",
       "<style scoped>\n",
       "    .dataframe tbody tr th:only-of-type {\n",
       "        vertical-align: middle;\n",
       "    }\n",
       "\n",
       "    .dataframe tbody tr th {\n",
       "        vertical-align: top;\n",
       "    }\n",
       "\n",
       "    .dataframe thead th {\n",
       "        text-align: right;\n",
       "    }\n",
       "</style>\n",
       "<table border=\"1\" class=\"dataframe\">\n",
       "  <thead>\n",
       "    <tr style=\"text-align: right;\">\n",
       "      <th></th>\n",
       "      <th>Retention1_PERC</th>\n",
       "      <th>Retention7_PERC</th>\n",
       "    </tr>\n",
       "  </thead>\n",
       "  <tbody>\n",
       "    <tr>\n",
       "      <th>False</th>\n",
       "      <td>0.554786</td>\n",
       "      <td>0.813944</td>\n",
       "    </tr>\n",
       "    <tr>\n",
       "      <th>True</th>\n",
       "      <td>0.445214</td>\n",
       "      <td>0.186056</td>\n",
       "    </tr>\n",
       "  </tbody>\n",
       "</table>\n",
       "</div>"
      ],
      "text/plain": [
       "       Retention1_PERC  Retention7_PERC\n",
       "False         0.554786         0.813944\n",
       "True          0.445214         0.186056"
      ]
     },
     "execution_count": 73,
     "metadata": {},
     "output_type": "execute_result"
    }
   ],
   "source": [
    "#The same but in percentages:\n",
    "pd.DataFrame({\"Retention1_PERC\": cats[\"retention_1\"].value_counts() / len(cats),\n",
    "              \"Retention7_PERC\": cats[\"retention_7\"].value_counts() / len(cats)})"
   ]
  },
  {
   "cell_type": "markdown",
   "id": "c719df7f",
   "metadata": {},
   "source": [
    "-55 percent of the players didn't play the game 1 day after insalling\n",
    "\n",
    "-81 percent of the players didn't play the game 7 days after insalling\n",
    "\n",
    "\n",
    "As with game rounds, we see a decline in the retention of players. Aproximately just half of the players played the game 1 day after installation. Just 18% of the player base played after 1 week of installation. "
   ]
  },
  {
   "cell_type": "markdown",
   "id": "670a5099",
   "metadata": {},
   "source": [
    "Conclusion about groups:We see small differences(we will check significance) between the two groups. Gate30 has slighter better numbers in retention and game rounds played."
   ]
  },
  {
   "cell_type": "markdown",
   "id": "900149a0",
   "metadata": {},
   "source": [
    "2.A/B TESTING:<br>\n",
    "Let's test if the small differences between each group are significant.We will test the significance for the 3 stats:Gamerounds\n",
    "Retention_1 and Retention_7.<br> \n",
    "The process to run the A/B test will be the following:<br>\n",
    "1.Split groups<br>\n",
    "2.Check assumptions: normality(applying shapiro Test) and homogeneity(Applying Levene Test)<br>\n",
    "normality: sampling distribution is normally distributed(resembles a bell shaped curve)<br>\n",
    "homogeneity:standard deviations of each sample group are almost equal <br>\n",
    "3.Possible outcomes:<br> \n",
    "-If data is parametric(normality ass ok) + homogeinity ->T-Test<br>\n",
    "-If data parametric but not homogeneous -> Welch Test<br>\n",
    "-If data non-parametric and non homogeneous ->Mann Whitney U test<br>\n",
    "4.We will use bootstrapping to plot the differences \n",
    "\n"
   ]
  },
  {
   "cell_type": "code",
   "execution_count": 29,
   "id": "22cd5d21",
   "metadata": {},
   "outputs": [
    {
     "data": {
      "text/html": [
       "<div>\n",
       "<style scoped>\n",
       "    .dataframe tbody tr th:only-of-type {\n",
       "        vertical-align: middle;\n",
       "    }\n",
       "\n",
       "    .dataframe tbody tr th {\n",
       "        vertical-align: top;\n",
       "    }\n",
       "\n",
       "    .dataframe thead th {\n",
       "        text-align: right;\n",
       "    }\n",
       "</style>\n",
       "<table border=\"1\" class=\"dataframe\">\n",
       "  <thead>\n",
       "    <tr style=\"text-align: right;\">\n",
       "      <th></th>\n",
       "      <th>userid</th>\n",
       "      <th>version</th>\n",
       "      <th>sum_gamerounds</th>\n",
       "      <th>retention_1</th>\n",
       "      <th>retention_7</th>\n",
       "    </tr>\n",
       "  </thead>\n",
       "  <tbody>\n",
       "    <tr>\n",
       "      <th>0</th>\n",
       "      <td>116</td>\n",
       "      <td>gate_30</td>\n",
       "      <td>3</td>\n",
       "      <td>False</td>\n",
       "      <td>False</td>\n",
       "    </tr>\n",
       "    <tr>\n",
       "      <th>1</th>\n",
       "      <td>337</td>\n",
       "      <td>gate_30</td>\n",
       "      <td>38</td>\n",
       "      <td>True</td>\n",
       "      <td>False</td>\n",
       "    </tr>\n",
       "    <tr>\n",
       "      <th>6</th>\n",
       "      <td>1066</td>\n",
       "      <td>gate_30</td>\n",
       "      <td>0</td>\n",
       "      <td>False</td>\n",
       "      <td>False</td>\n",
       "    </tr>\n",
       "    <tr>\n",
       "      <th>11</th>\n",
       "      <td>2101</td>\n",
       "      <td>gate_30</td>\n",
       "      <td>0</td>\n",
       "      <td>False</td>\n",
       "      <td>False</td>\n",
       "    </tr>\n",
       "    <tr>\n",
       "      <th>13</th>\n",
       "      <td>2179</td>\n",
       "      <td>gate_30</td>\n",
       "      <td>39</td>\n",
       "      <td>True</td>\n",
       "      <td>False</td>\n",
       "    </tr>\n",
       "    <tr>\n",
       "      <th>...</th>\n",
       "      <td>...</td>\n",
       "      <td>...</td>\n",
       "      <td>...</td>\n",
       "      <td>...</td>\n",
       "      <td>...</td>\n",
       "    </tr>\n",
       "    <tr>\n",
       "      <th>90179</th>\n",
       "      <td>9998576</td>\n",
       "      <td>gate_30</td>\n",
       "      <td>14</td>\n",
       "      <td>True</td>\n",
       "      <td>False</td>\n",
       "    </tr>\n",
       "    <tr>\n",
       "      <th>90180</th>\n",
       "      <td>9998623</td>\n",
       "      <td>gate_30</td>\n",
       "      <td>7</td>\n",
       "      <td>False</td>\n",
       "      <td>False</td>\n",
       "    </tr>\n",
       "    <tr>\n",
       "      <th>90182</th>\n",
       "      <td>9999178</td>\n",
       "      <td>gate_30</td>\n",
       "      <td>21</td>\n",
       "      <td>True</td>\n",
       "      <td>False</td>\n",
       "    </tr>\n",
       "    <tr>\n",
       "      <th>90183</th>\n",
       "      <td>9999349</td>\n",
       "      <td>gate_30</td>\n",
       "      <td>10</td>\n",
       "      <td>False</td>\n",
       "      <td>False</td>\n",
       "    </tr>\n",
       "    <tr>\n",
       "      <th>90186</th>\n",
       "      <td>9999710</td>\n",
       "      <td>gate_30</td>\n",
       "      <td>28</td>\n",
       "      <td>True</td>\n",
       "      <td>False</td>\n",
       "    </tr>\n",
       "  </tbody>\n",
       "</table>\n",
       "<p>44699 rows × 5 columns</p>\n",
       "</div>"
      ],
      "text/plain": [
       "        userid  version  sum_gamerounds  retention_1  retention_7\n",
       "0          116  gate_30               3        False        False\n",
       "1          337  gate_30              38         True        False\n",
       "6         1066  gate_30               0        False        False\n",
       "11        2101  gate_30               0        False        False\n",
       "13        2179  gate_30              39         True        False\n",
       "...        ...      ...             ...          ...          ...\n",
       "90179  9998576  gate_30              14         True        False\n",
       "90180  9998623  gate_30               7        False        False\n",
       "90182  9999178  gate_30              21         True        False\n",
       "90183  9999349  gate_30              10        False        False\n",
       "90186  9999710  gate_30              28         True        False\n",
       "\n",
       "[44699 rows x 5 columns]"
      ]
     },
     "execution_count": 29,
     "metadata": {},
     "output_type": "execute_result"
    }
   ],
   "source": [
    "#We first split the groups\n",
    "\n",
    "group30 = cats[(cats['version'] == 'gate_30')]\n",
    "group40 = cats[(cats['version'] == 'gate_40')]\n",
    "group30\n"
   ]
  },
  {
   "cell_type": "code",
   "execution_count": 30,
   "id": "0220548e",
   "metadata": {},
   "outputs": [],
   "source": [
    "#TTEST FOR GAME ROUNDS:\n",
    "#Import librares\n",
    "from scipy.stats import shapiro\n",
    "import scipy.stats as stats\n"
   ]
  },
  {
   "cell_type": "markdown",
   "id": "85002388",
   "metadata": {},
   "source": [
    "We now apply saphiro to check normality for each froup. \n",
    "\n",
    "H0 : Distributoin is normal -> False\n",
    "    \n",
    "H1 : Distribution is not normal -> True"
   ]
  },
  {
   "cell_type": "code",
   "execution_count": 31,
   "id": "b530934f",
   "metadata": {},
   "outputs": [
    {
     "name": "stderr",
     "output_type": "stream",
     "text": [
      "C:\\Users\\manum\\anaconda3\\lib\\site-packages\\scipy\\stats\\morestats.py:1760: UserWarning: p-value may not be accurate for N > 5000.\n",
      "  warnings.warn(\"p-value may not be accurate for N > 5000.\")\n"
     ]
    },
    {
     "data": {
      "text/plain": [
       "ShapiroResult(statistic=0.48864424228668213, pvalue=0.0)"
      ]
     },
     "execution_count": 31,
     "metadata": {},
     "output_type": "execute_result"
    }
   ],
   "source": [
    "stats.shapiro(group30['sum_gamerounds'])"
   ]
  },
  {
   "cell_type": "code",
   "execution_count": 32,
   "id": "099900f7",
   "metadata": {},
   "outputs": [
    {
     "data": {
      "text/plain": [
       "ShapiroResult(statistic=0.4825654625892639, pvalue=0.0)"
      ]
     },
     "execution_count": 32,
     "metadata": {},
     "output_type": "execute_result"
    }
   ],
   "source": [
    "stats.shapiro(group40['sum_gamerounds'])\n"
   ]
  },
  {
   "cell_type": "markdown",
   "id": "e7baae03",
   "metadata": {},
   "source": [
    "For both groups, the p-value of the Saphiro test is smaller than the threshold(0.05). We reject the null hypthosis, meaning\n",
    "the variables violate the normality assumption. We then move to use the Mann-Whitney test:\n",
    "    \n",
    "H0: Group30 == Group40 - False\n",
    "    \n",
    "H1: Group30 != Group40 - True"
   ]
  },
  {
   "cell_type": "code",
   "execution_count": 33,
   "id": "2a74720d",
   "metadata": {},
   "outputs": [
    {
     "data": {
      "text/plain": [
       "0.05089155279145376"
      ]
     },
     "execution_count": 33,
     "metadata": {},
     "output_type": "execute_result"
    }
   ],
   "source": [
    "ttest = stats.mannwhitneyu(group30['sum_gamerounds'], group40['sum_gamerounds'])[1]\n",
    "ttest"
   ]
  },
  {
   "cell_type": "markdown",
   "id": "809c45cc",
   "metadata": {},
   "source": [
    "We have a p-value higher than the threshold(0.05), meaning we can't reject the null hypothesis, so Gate30 and Gate 40 are not significantly different when looking at game rounds.\n"
   ]
  },
  {
   "cell_type": "code",
   "execution_count": 35,
   "id": "f9c81a3f",
   "metadata": {},
   "outputs": [
    {
     "data": {
      "text/plain": [
       "ShapiroResult(statistic=0.6324949264526367, pvalue=0.0)"
      ]
     },
     "execution_count": 35,
     "metadata": {},
     "output_type": "execute_result"
    }
   ],
   "source": [
    "#TTEST for retention_1\n",
    "stats.shapiro(group30['retention_1'])"
   ]
  },
  {
   "cell_type": "code",
   "execution_count": 36,
   "id": "3d961276",
   "metadata": {},
   "outputs": [
    {
     "data": {
      "text/plain": [
       "ShapiroResult(statistic=0.6315157413482666, pvalue=0.0)"
      ]
     },
     "execution_count": 36,
     "metadata": {},
     "output_type": "execute_result"
    }
   ],
   "source": [
    "stats.shapiro(group40['retention_1'])"
   ]
  },
  {
   "cell_type": "markdown",
   "id": "8da6abb3",
   "metadata": {},
   "source": [
    "Both p-values are smaller than the threshold, we reject the null hypthesis, the data is not normally distributed we use the Mann-Whitney test:"
   ]
  },
  {
   "cell_type": "code",
   "execution_count": 37,
   "id": "b5155fbf",
   "metadata": {},
   "outputs": [
    {
     "data": {
      "text/plain": [
       "MannwhitneyuResult(statistic=1022670128.0, pvalue=0.073922385401239)"
      ]
     },
     "execution_count": 37,
     "metadata": {},
     "output_type": "execute_result"
    }
   ],
   "source": [
    "\n",
    "ttest = stats.mannwhitneyu(group30['retention_1'], group40['retention_1'])\n",
    "ttest"
   ]
  },
  {
   "cell_type": "markdown",
   "id": "391502ca",
   "metadata": {},
   "source": [
    "We have a p-value higher than the threshold(0.05), meaning we can't reject the null hypothesis, so Gate30 and Gate 40 are not significantly different when looking at retention after 1 day of installation."
   ]
  },
  {
   "cell_type": "code",
   "execution_count": 39,
   "id": "32c1e1a6",
   "metadata": {},
   "outputs": [
    {
     "data": {
      "text/plain": [
       "ShapiroResult(statistic=0.4787290692329407, pvalue=0.0)"
      ]
     },
     "execution_count": 39,
     "metadata": {},
     "output_type": "execute_result"
    }
   ],
   "source": [
    "#TTEST for retention_7:\n",
    "stats.shapiro(group30['retention_7'])"
   ]
  },
  {
   "cell_type": "code",
   "execution_count": 40,
   "id": "04b9c370",
   "metadata": {},
   "outputs": [
    {
     "data": {
      "text/plain": [
       "ShapiroResult(statistic=0.4689866900444031, pvalue=0.0)"
      ]
     },
     "execution_count": 40,
     "metadata": {},
     "output_type": "execute_result"
    }
   ],
   "source": [
    "stats.shapiro(group40['retention_7'])"
   ]
  },
  {
   "cell_type": "markdown",
   "id": "37ba45eb",
   "metadata": {},
   "source": [
    "Both p-values are smaller than the threshold, we reject the null hypthesis, the data is not normally distributed we use the Mann-Whitney test:"
   ]
  },
  {
   "cell_type": "code",
   "execution_count": 41,
   "id": "22d7ff48",
   "metadata": {},
   "outputs": [
    {
     "data": {
      "text/plain": [
       "MannwhitneyuResult(statistic=1024975889.5, pvalue=0.0015918697815176374)"
      ]
     },
     "execution_count": 41,
     "metadata": {},
     "output_type": "execute_result"
    }
   ],
   "source": [
    "\n",
    "ttest = stats.mannwhitneyu(group30['retention_7'], group40['retention_7'])\n",
    "ttest"
   ]
  },
  {
   "cell_type": "markdown",
   "id": "664d0bb6",
   "metadata": {},
   "source": [
    "We have a p-value smaller than the threshold(0.05), so we reject the null hypothesis meaning that Gate30 & Gate40 are significantly different.\n",
    "\n",
    "\n",
    "In conclusion, there are no significant differences between the two groups when looking at total rounds played and retention after 1 day of installation. But, when looking at retention on day 7, we see that gate30 is slightly better than gate 40, and this difference is significant. For this reason, it is a better option to keep the current gate at level 30 and not move it to level 40.\n"
   ]
  },
  {
   "cell_type": "markdown",
   "id": "14edfdda",
   "metadata": {},
   "source": [
    "3.BOOTSTRAPPING <br>\n",
    "Let's use boostrapping(re-sample the dataset n number of times) to understand how big the differences between each group for each variable are. I will first plot the mean of the two groups and then the difference between means. "
   ]
  },
  {
   "cell_type": "code",
   "execution_count": 44,
   "id": "f4d53a4d",
   "metadata": {},
   "outputs": [
    {
     "data": {
      "text/plain": [
       "<AxesSubplot:ylabel='Density'>"
      ]
     },
     "execution_count": 44,
     "metadata": {},
     "output_type": "execute_result"
    },
    {
     "data": {
      "image/png": "[encoded data removed]",
      "text/plain": [
       "<Figure size 432x288 with 1 Axes>"
      ]
     },
     "metadata": {
      "needs_background": "light"
     },
     "output_type": "display_data"
    }
   ],
   "source": [
    "boot_day1 = []\n",
    "for i in range(1000):\n",
    "    boot_mean = cats.sample(frac = 1,replace = True).groupby('version')['retention_1'].mean()\n",
    "    boot_day1.append(boot_mean)\n",
    "    \n",
    "\n",
    "boot_day1 = pd.DataFrame(boot_day1)\n",
    "    \n",
    "boot_day1.plot(kind='density')"
   ]
  },
  {
   "cell_type": "code",
   "execution_count": 46,
   "id": "b6970309",
   "metadata": {},
   "outputs": [
    {
     "name": "stdout",
     "output_type": "stream",
     "text": [
      "Probability that 1-day retention is greater when the gate is at level 30: 0.967\n"
     ]
    },
    {
     "data": {
      "image/png": "[encoded data removed]",
      "text/plain": [
       "<Figure size 432x288 with 1 Axes>"
      ]
     },
     "metadata": {
      "needs_background": "light"
     },
     "output_type": "display_data"
    }
   ],
   "source": [
    "# Adding a column with the % difference between the two AB-groups\n",
    "boot_day1['diff'] = (boot_day1.gate_30 - boot_day1.gate_40)/boot_day1.gate_40*100\n",
    "\n",
    "\n",
    "ax = boot_day1['diff'].plot(kind='density')\n",
    "ax.set_title('% difference in Day 1')\n",
    "\n",
    "\n",
    "print('Probability that 1-day retention is greater when the gate is at level 30:',(boot_day1['diff'] > 0).mean())"
   ]
  },
  {
   "cell_type": "code",
   "execution_count": 47,
   "id": "cd094239",
   "metadata": {},
   "outputs": [
    {
     "data": {
      "text/plain": [
       "<AxesSubplot:ylabel='Density'>"
      ]
     },
     "execution_count": 47,
     "metadata": {},
     "output_type": "execute_result"
    },
    {
     "data": {
      "image/png": "[encoded data removed]",
      "text/plain": [
       "<Figure size 432x288 with 1 Axes>"
      ]
     },
     "metadata": {
      "needs_background": "light"
     },
     "output_type": "display_data"
    }
   ],
   "source": [
    "boot_day7 = []\n",
    "for i in range(1000):\n",
    "    boot_mean = cats.sample(frac = 1,replace = True).groupby('version')['retention_7'].mean()\n",
    "    boot_day7.append(boot_mean)\n",
    "    \n",
    "\n",
    "boot_day7 = pd.DataFrame(boot_day7)\n",
    "    \n",
    "\n",
    "boot_day7.plot(kind='density')"
   ]
  },
  {
   "cell_type": "code",
   "execution_count": 48,
   "id": "e49d614a",
   "metadata": {},
   "outputs": [
    {
     "name": "stdout",
     "output_type": "stream",
     "text": [
      "Probability that 7-day retention is greater when the gate is at level 30: 0.999\n"
     ]
    },
    {
     "data": {
      "image/png": "[encoded data removed]",
      "text/plain": [
       "<Figure size 432x288 with 1 Axes>"
      ]
     },
     "metadata": {
      "needs_background": "light"
     },
     "output_type": "display_data"
    }
   ],
   "source": [
    "\n",
    "boot_day7['diff'] = (boot_day7.gate_30 - boot_day7.gate_40)/boot_day7.gate_40*100\n",
    "\n",
    "\n",
    "ax = boot_day7['diff'].plot(kind='density')\n",
    "ax.set_title('% difference in 7-days')\n",
    "\n",
    "\n",
    "print('Probability that 7-day retention is greater when the gate is at level 30:',(boot_day7['diff'] > 0).mean())"
   ]
  },
  {
   "cell_type": "code",
   "execution_count": 50,
   "id": "7e4388da",
   "metadata": {},
   "outputs": [
    {
     "data": {
      "text/plain": [
       "<AxesSubplot:ylabel='Density'>"
      ]
     },
     "execution_count": 50,
     "metadata": {},
     "output_type": "execute_result"
    },
    {
     "data": {
      "image/png": "[encoded data removed]",
      "text/plain": [
       "<Figure size 432x288 with 1 Axes>"
      ]
     },
     "metadata": {
      "needs_background": "light"
     },
     "output_type": "display_data"
    }
   ],
   "source": [
    "boot_GR = []\n",
    "for i in range(1000):\n",
    "    boot_mean = cats.sample(frac = 1,replace = True).groupby('version')['sum_gamerounds'].mean()\n",
    "    boot_GR.append(boot_mean)\n",
    "    \n",
    "\n",
    "boot_GR = pd.DataFrame(boot_GR)\n",
    "    \n",
    "boot_GR.plot(kind='density')"
   ]
  },
  {
   "cell_type": "code",
   "execution_count": 51,
   "id": "e28f7cdd",
   "metadata": {},
   "outputs": [
    {
     "name": "stdout",
     "output_type": "stream",
     "text": [
      "Probability that Game Rounds is greater when the gate is at level 30: 0.546\n"
     ]
    },
    {
     "data": {
      "image/png": "[encoded data removed]",
      "text/plain": [
       "<Figure size 432x288 with 1 Axes>"
      ]
     },
     "metadata": {
      "needs_background": "light"
     },
     "output_type": "display_data"
    }
   ],
   "source": [
    "# Adding a column with the % difference between the two AB-groups\n",
    "boot_GR['diff'] = (boot_GR.gate_30 - boot_GR.gate_40)/boot_GR.gate_40*100\n",
    "\n",
    "\n",
    "ax = boot_GR['diff'].plot(kind='density')\n",
    "ax.set_title('% difference in Game Rounds')\n",
    "\n",
    "\n",
    "print('Probability that Game Rounds is greater when the gate is at level 30:',(boot_GR['diff'] > 0).mean())"
   ]
  },
  {
   "cell_type": "markdown",
   "id": "824aa91c",
   "metadata": {},
   "source": [
    "Conclusion: We confirm the same result we had when testing the significance of the differences. In game rounds we see the least difference.In retention after 1 day of instalation we have a bigger difference but is not significant. It is in retention after 7 days of instalation where we see the bigger difference and we have tested that this difference is significant. With all this information, we can say that keeping the gate at level 30 is the best option for the team. "
   ]
  },
  {
   "cell_type": "code",
   "execution_count": null,
   "id": "4b44d70e",
   "metadata": {},
   "outputs": [],
   "source": []
  }
 ],
 "metadata": {
  "kernelspec": {
   "display_name": "Python 3 (ipykernel)",
   "language": "python",
   "name": "python3"
  },
  "language_info": {
   "codemirror_mode": {
    "name": "ipython",
    "version": 3
   },
   "file_extension": ".py",
   "mimetype": "text/x-python",
   "name": "python",
   "nbconvert_exporter": "python",
   "pygments_lexer": "ipython3",
   "version": "3.9.12"
  }
 },
 "nbformat": 4,
 "nbformat_minor": 5
}
